{
 "cells": [
  {
   "cell_type": "code",
   "execution_count": 20,
   "metadata": {
    "collapsed": false
   },
   "outputs": [
    {
     "name": "stdout",
     "output_type": "stream",
     "text": [
      "25 Cosas que SÍ SON REALES sobre los saqueos y las protestas ante el gasolinazo\n"
     ]
    },
    {
     "name": "stderr",
     "output_type": "stream",
     "text": [
      "/Users/eshwarchandrasekharan/anaconda3/envs/ipykernel_py2/lib/python2.7/site-packages/ipykernel_launcher.py:20: UnicodeWarning: Unicode equal comparison failed to convert both arguments to Unicode - interpreting them as being unequal\n"
     ]
    },
    {
     "name": "stdout",
     "output_type": "stream",
     "text": [
      "6 15 0.4\n",
      "NOT en\n",
      "21 Trucos para cuando estás tratando de comer más saludable\n",
      "3 10 0.3\n",
      "NOT en\n",
      "It's Been 10 Years Since \"The Mysterious Ticking Noise\" And We're All Closer To Death\n",
      "13 19 0.684210526316\n",
      "en\n",
      "9 reasons why Ramsay is cool\n",
      "3 6 0.5\n",
      "en\n"
     ]
    }
   ],
   "source": [
    "import nltk\n",
    "from nltk.corpus import words\n",
    "eng_dict = words.words()\n",
    "\n",
    "lis = [\n",
    "       \"25 Cosas que SÍ SON REALES sobre los saqueos y las protestas ante el gasolinazo\", \n",
    "       \"21 Trucos para cuando estás tratando de comer más saludable\",\n",
    "       \"It's Been 10 Years Since \\\"The Mysterious Ticking Noise\\\" And We're All Closer To Death\",\n",
    "        \"9 reasons why Ramsay is cool\"\n",
    "      ]\n",
    "\n",
    "for string in lis:\n",
    "    print string\n",
    "    tokens = nltk.word_tokenize(string.lower())\n",
    "    tot = 0\n",
    "    hits = 0\n",
    "\n",
    "    for word in tokens:\n",
    "        tot += 1\n",
    "        if word in eng_dict:\n",
    "            hits += 1\n",
    "\n",
    "    print hits, tot, float(hits)/tot\n",
    "    \n",
    "    if float(hits)/tot >= 0.5:\n",
    "        print \"en\"\n",
    "    else:\n",
    "        print \"NOT en\""
   ]
  },
  {
   "cell_type": "code",
   "execution_count": 2,
   "metadata": {
    "collapsed": false
   },
   "outputs": [
    {
     "data": {
      "text/plain": [
       "array([[1, 0, 0],\n",
       "       [0, 1, 0],\n",
       "       [0, 0, 0],\n",
       "       [0, 0, 1]])"
      ]
     },
     "execution_count": 2,
     "metadata": {},
     "output_type": "execute_result"
    }
   ],
   "source": [
    "import sklearn\n",
    "cv = sklearn.feature_extraction.text.CountVectorizer(vocabulary=['hot', 'cold', 'old'])\n",
    "cv.fit_transform(['pease porridge hot', 'pease porridge cold', 'pease porridge in the pot', 'nine days old']).toarray()"
   ]
  },
  {
   "cell_type": "code",
   "execution_count": 10,
   "metadata": {
    "collapsed": false
   },
   "outputs": [
    {
     "name": "stdout",
     "output_type": "stream",
     "text": [
      "True\n",
      "True\n",
      "False\n",
      "True\n",
      "False\n",
      "True\n",
      "True\n",
      "True\n",
      "True\n",
      "False\n",
      "False\n",
      "False\n",
      "False\n",
      "True\n",
      "True\n",
      "True\n",
      "True\n",
      "True\n",
      "False\n",
      "True\n",
      "True\n",
      "True\n",
      "True\n",
      "True\n",
      "False\n",
      "False\n",
      "True\n",
      "True\n",
      "True\n",
      "False\n",
      "True\n",
      "True\n",
      "True\n",
      "True\n",
      "True\n",
      "True\n",
      "True\n",
      "True\n",
      "True\n",
      "True\n",
      "False\n",
      "True\n",
      "True\n",
      "True\n",
      "True\n",
      "True\n",
      "True\n",
      "True\n",
      "False\n",
      "True\n",
      "True\n",
      "True\n",
      "True\n",
      "True\n",
      "False\n",
      "False\n",
      "True\n",
      "True\n",
      "True\n",
      "False\n",
      "True\n",
      "True\n",
      "False\n",
      "True\n",
      "True\n",
      "False\n",
      "True\n",
      "True\n",
      "True\n",
      "False\n",
      "True\n",
      "True\n",
      "True\n",
      "True\n",
      "True\n",
      "True\n",
      "False\n",
      "True\n",
      "True\n",
      "False\n",
      "True\n",
      "True\n",
      "True\n",
      "True\n",
      "True\n"
     ]
    }
   ],
   "source": [
    "test = \"It's Been 10 Years Since \\\"The Mysterious Ticking Noise\\\" And We're All Closer To Death\"\n",
    "for w in test:\n",
    "    print w in eng_dict"
   ]
  },
  {
   "cell_type": "code",
   "execution_count": 21,
   "metadata": {
    "collapsed": false
   },
   "outputs": [
    {
     "name": "stdout",
     "output_type": "stream",
     "text": [
      "2010-09-10 02:51:25\n"
     ]
    }
   ],
   "source": [
    "import datetime\n",
    "print(\n",
    "    datetime.datetime.fromtimestamp(\n",
    "        int(\"1284101485\")\n",
    "    ).strftime('%Y-%m-%d %H:%M:%S')\n",
    ")"
   ]
  },
  {
   "cell_type": "code",
   "execution_count": 35,
   "metadata": {
    "collapsed": false
   },
   "outputs": [
    {
     "name": "stdout",
     "output_type": "stream",
     "text": [
      "2017-02-19 17:34:57\n"
     ]
    }
   ],
   "source": [
    "import datetime\n",
    "print(\n",
    "    datetime.datetime.fromtimestamp(\n",
    "        int(\"1487543697972\")/1000\n",
    "    ).strftime('%Y-%m-%d %H:%M:%S')\n",
    ")\n",
    "\n"
   ]
  },
  {
   "cell_type": "code",
   "execution_count": 30,
   "metadata": {
    "collapsed": false
   },
   "outputs": [
    {
     "ename": "ValueError",
     "evalue": "year is out of range",
     "output_type": "error",
     "traceback": [
      "\u001b[0;31m---------------------------------------------------------------------------\u001b[0m",
      "\u001b[0;31mValueError\u001b[0m                                Traceback (most recent call last)",
      "\u001b[0;32m<ipython-input-30-84c56e94fe3f>\u001b[0m in \u001b[0;36m<module>\u001b[0;34m()\u001b[0m\n\u001b[1;32m      1\u001b[0m \u001b[0munix_timestamp\u001b[0m \u001b[0;34m=\u001b[0m \u001b[0mfloat\u001b[0m\u001b[0;34m(\u001b[0m\u001b[0;34m\"1500040473415\"\u001b[0m\u001b[0;34m)\u001b[0m\u001b[0;34m\u001b[0m\u001b[0m\n\u001b[1;32m      2\u001b[0m \u001b[0;31m# local_timezone = tzlocal.get_localzone() # get pytz timezone\u001b[0m\u001b[0;34m\u001b[0m\u001b[0;34m\u001b[0m\u001b[0m\n\u001b[0;32m----> 3\u001b[0;31m \u001b[0mlocal_time\u001b[0m \u001b[0;34m=\u001b[0m \u001b[0mdatetime\u001b[0m\u001b[0;34m.\u001b[0m\u001b[0mdatetime\u001b[0m\u001b[0;34m.\u001b[0m\u001b[0mfromtimestamp\u001b[0m\u001b[0;34m(\u001b[0m\u001b[0munix_timestamp\u001b[0m\u001b[0;34m)\u001b[0m\u001b[0;31m#, local_timezone)\u001b[0m\u001b[0;34m\u001b[0m\u001b[0m\n\u001b[0m",
      "\u001b[0;31mValueError\u001b[0m: year is out of range"
     ]
    }
   ],
   "source": [
    "unix_timestamp = float(\"1500040473415\")\n",
    "# local_timezone = tzlocal.get_localzone() # get pytz timezone\n",
    "local_time = datetime.datetime.fromtimestamp(unix_timestamp)#, local_timezone)"
   ]
  },
  {
   "cell_type": "code",
   "execution_count": null,
   "metadata": {
    "collapsed": true
   },
   "outputs": [],
   "source": []
  }
 ],
 "metadata": {
  "kernelspec": {
   "display_name": "Python 2",
   "language": "python",
   "name": "python2"
  },
  "language_info": {
   "codemirror_mode": {
    "name": "ipython",
    "version": 2
   },
   "file_extension": ".py",
   "mimetype": "text/x-python",
   "name": "python",
   "nbconvert_exporter": "python",
   "pygments_lexer": "ipython2",
   "version": "2.7.13"
  }
 },
 "nbformat": 4,
 "nbformat_minor": 2
}
