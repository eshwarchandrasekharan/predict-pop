{
 "cells": [
  {
   "cell_type": "code",
   "execution_count": 3,
   "metadata": {
    "collapsed": false
   },
   "outputs": [],
   "source": [
    "import psycopg2\n",
    "import pandas as pd\n",
    "\n",
    "RADSHIFT_CONN_STRING = \"dbname='buzzfeed' user='radshift_reader'  host='127.0.0.1' port='5439' password='Data4me2'\"\n",
    "\n",
    "def batch_query_radshift(query):\n",
    "    conn = psycopg2.connect(RADSHIFT_CONN_STRING)\n",
    "    cursor = conn.cursor()\n",
    "    cursor.execute(query)\n",
    "    rows = cursor.fetchall()\n",
    "    for row in rows:\n",
    "        yield row\n",
    "    conn.commit()\n",
    "    conn.close()\n",
    "\n",
    "query = \"\"\"\n",
    "SELECT\n",
    "                        buzz_id from web_app_post\n",
    "                         limit 10\n",
    "                                    \n",
    "\"\"\"\n",
    "\n",
    "data = [r for r in batch_query_radshift(query)]\n",
    "\n",
    "metadata_query = \"\"\"\n",
    "SELECT\n",
    "                        platform_data_api_post.external_id,\n",
    "                        platform_data_api_post.parent_external_id,\n",
    "                        platform_data_api_post.created_at,\n",
    "                        platform_data_api_account.display_name,\n",
    "                        platform_data_api_post_type.name,\n",
    "                        platform_data_api_post.buzz_id,\n",
    "                        web_app_post.uri,\n",
    "                        web_app_post.name\n",
    "                      FROM platform_data_api_post\n",
    "                        INNER JOIN platform_data_api_account\n",
    "                          ON platform_data_api_account._id = platform_data_api_post.account_id\n",
    "                        INNER JOIN platform_data_api_post_type\n",
    "                          ON platform_data_api_post_type._id = platform_data_api_post.post_type_id\n",
    "                        inner join web_app_post\n",
    "                          on platform_data_api_post.buzz_id = web_app_post.buzz_id \n",
    "                    where platform_data_api_post.created_at > '2017-01-01'\n",
    "                    and ( platform_data_api_post_type.name = 'link'\n",
    "                            or \n",
    "                            platform_data_api_post_type.name = 'video')\n",
    "\"\"\"\n",
    "\n",
    "data = [r for r in batch_query_radshift(metadata_query)]\n",
    "df = pd.DataFrame(data)\n",
    "\n",
    "df = df.rename(columns={0: 'external_id', 1: 'parent_external_id', 2: 'created_at', 3: 'page', 4: 'post_type', 5:'buzz_id', 6:'uri', 7: 'title' })\n",
    "df.to_csv('post_metadata_6-20.csv')\n",
    "\n",
    "ids = df['external_id']\n",
    "ids = \"'\" + \"', '\".join(ids) + \"'\"\n",
    "\n",
    "cols = [\n",
    "    'external_id',\n",
    "    'stats_ts',\n",
    "  'stats_date', \n",
    "  'consumptions_by_type__link_clicks',\n",
    " 'consumptions_by_type__other_clicks',\n",
    "  'reactions_like_total',\n",
    "  'stories_by_action_type__comment',\n",
    "  'stories_by_action_type__like',\n",
    "  'stories_by_action_type__share',\n",
    "  'engaged_fan',\n",
    "  'fan_reach',\n",
    "  'impressions',\n",
    "  'impressions_fan',\n",
    "#   'video_complete_views_30s_organic',\n",
    "#   'video_complete_views_organic'\n",
    "       ]\n",
    "rename = dict(zip(range(len(cols)), cols))\n",
    "\n",
    "stats_query = \"\"\"\n",
    "SELECT\n",
    "    external_object_id external_id,\n",
    "  stats_ts,\n",
    "  stats_date, \n",
    "  consumptions_by_type__link_clicks,\n",
    "  consumptions_by_type__other_clicks,\n",
    "  reactions_like_total,\n",
    "  stories_by_action_type__comment,\n",
    "  stories_by_action_type__like,\n",
    "  stories_by_action_type__share,\n",
    "  engaged_fan,\n",
    "  fan_reach,\n",
    "  impressions,\n",
    "  impressions_fan\n",
    "FROM\n",
    "  distributed_stats_storage_facebook_post\n",
    "WHERE\n",
    "  external_object_id IN (%s)\n",
    "\"\"\" % ids\n",
    "\n",
    "data = [r for r in batch_query_radshift(stats_query)]\n",
    "df = pd.DataFrame(data)\n",
    "df = df.rename(columns=rename)\n",
    "df.to_csv('post_stats_6-20.csv')"
   ]
  },
  {
   "cell_type": "code",
   "execution_count": 4,
   "metadata": {
    "collapsed": false
   },
   "outputs": [
    {
     "name": "stdout",
     "output_type": "stream",
     "text": [
      "1\n"
     ]
    }
   ],
   "source": [
    "print(1)"
   ]
  },
  {
   "cell_type": "code",
   "execution_count": null,
   "metadata": {
    "collapsed": true
   },
   "outputs": [],
   "source": []
  },
  {
   "cell_type": "code",
   "execution_count": null,
   "metadata": {
    "collapsed": true
   },
   "outputs": [],
   "source": []
  }
 ],
 "metadata": {
  "kernelspec": {
   "display_name": "Python 3",
   "language": "python",
   "name": "python3"
  },
  "language_info": {
   "codemirror_mode": {
    "name": "ipython",
    "version": 3
   },
   "file_extension": ".py",
   "mimetype": "text/x-python",
   "name": "python",
   "nbconvert_exporter": "python",
   "pygments_lexer": "ipython3",
   "version": "3.6.0"
  }
 },
 "nbformat": 4,
 "nbformat_minor": 2
}
