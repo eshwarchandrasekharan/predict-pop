{
 "cells": [
  {
   "cell_type": "code",
   "execution_count": 3,
   "metadata": {
    "collapsed": false
   },
   "outputs": [
    {
     "name": "stdout",
     "output_type": "stream",
     "text": [
      "WITH cross-promotion features\n"
     ]
    }
   ],
   "source": [
    "import pandas as pd\n",
    "from pandas.stats.api import ols\n",
    "from sklearn import datasets, linear_model\n",
    "from sklearn.model_selection import train_test_split\n",
    "from matplotlib import pyplot as plt\n",
    "%matplotlib inline\n",
    "import math\n",
    "import numpy as np\n",
    "############ LOG SCALING - \n",
    "###PREDICTION TASK - with cross-promotion\n",
    "###Cross-validation\n",
    "train = pd.read_csv('jan_may_2017_links_cross_posting_info.csv')\n",
    "##drop dups\n",
    "# train = train.sort_values('ext_table1_firsthour_stats_date', ascending = False).drop_duplicates(subset=['buzz_post_buzz_id', 'ext_external_id'], keep = 'last')\n",
    "all_pages = list(train.buzz_account_display_name.unique())\n",
    "\n",
    "####RESTRICT PAGE-WISE\n",
    "# train = train[train['buzz_account_display_name'] == 'BuzzFeed']\n",
    "\n",
    "print(\"WITH cross-promotion features\")\n",
    "\n",
    "features = [\n",
    "       'ext_table1_consumptions_by_type__link_clicks',\n",
    "       'ext_table1_consumptions_by_type__other_clicks',\n",
    "       'ext_table1_reactions_like_total',\n",
    "       'ext_table1_stories_by_action_type__comment',\n",
    "       'ext_table1_stories_by_action_type__like',\n",
    "       'ext_table1_stories_by_action_type__share', 'ext_table1_engaged_fan',\n",
    "       'ext_table1_fan_reach', 'ext_table1_impressions',\n",
    "       'ext_table1_impressions_fan',\n",
    "        ]\n",
    "\n",
    "    \n",
    "alt_inf = len(all_pages) + 1\n",
    "train = train.replace(math.inf, alt_inf)\n",
    "\n",
    "# ####add the category variable for each of the pages in col_pages\n",
    "for pg in all_pages:\n",
    "    features.append(pg)\n",
    "\n",
    "###generate DFs for analysis - X and Y\n",
    "df = train[features]\n",
    "\n",
    "\n",
    "train['clicks_bucket'] = (np.log(train['ext_twodays_consumptions_by_type__link_clicks']+1)).astype(int)\n",
    "train['share_bucket'] = (np.log(train['ext_twodays_stories_by_action_type__share']+1)).astype(int)"
   ]
  },
  {
   "cell_type": "code",
   "execution_count": 14,
   "metadata": {
    "collapsed": false
   },
   "outputs": [
    {
     "data": {
      "text/plain": [
       "<matplotlib.axes._subplots.AxesSubplot at 0x11243ee80>"
      ]
     },
     "execution_count": 14,
     "metadata": {},
     "output_type": "execute_result"
    },
    {
     "data": {
      "image/png": "[encoded data removed]",
      "text/plain": [
       "<matplotlib.figure.Figure at 0x1105580f0>"
      ]
     },
     "metadata": {},
     "output_type": "display_data"
    }
   ],
   "source": [
    "train['ext_twodays_consumptions_by_type__link_clicks'].plot()"
   ]
  },
  {
   "cell_type": "code",
   "execution_count": 13,
   "metadata": {
    "collapsed": false
   },
   "outputs": [
    {
     "data": {
      "text/plain": [
       "<matplotlib.axes._subplots.AxesSubplot at 0x1101c3780>"
      ]
     },
     "execution_count": 13,
     "metadata": {},
     "output_type": "execute_result"
    },
    {
     "data": {
      "image/png": "[encoded data removed]",
      "text/plain": [
       "<matplotlib.figure.Figure at 0x10dc02a58>"
      ]
     },
     "metadata": {},
     "output_type": "display_data"
    }
   ],
   "source": [
    "train['ext_twodays_stories_by_action_type__share'].plot()"
   ]
  },
  {
   "cell_type": "code",
   "execution_count": null,
   "metadata": {
    "collapsed": false
   },
   "outputs": [],
   "source": []
  },
  {
   "cell_type": "code",
   "execution_count": 23,
   "metadata": {
    "collapsed": false
   },
   "outputs": [
    {
     "name": "stdout",
     "output_type": "stream",
     "text": [
      "KFold(n_splits=5, random_state=None, shuffle=False)\n"
     ]
    }
   ],
   "source": [
    "from sklearn.model_selection import KFold\n",
    "\n",
    "kf = KFold(n_splits = 5)\n",
    "for train_index, test_index in kf.split(X):\n",
    "    X_train, X_test = X[train_index], X[test_index]\n",
    "    y_train, y_test = y[train_index], y[test_index]"
   ]
  },
  {
   "cell_type": "code",
   "execution_count": 52,
   "metadata": {
    "collapsed": false
   },
   "outputs": [
    {
     "name": "stdout",
     "output_type": "stream",
     "text": [
      "WITH cross-promotion features\n",
      "Fold  0\n",
      "Testing for shares!\n"
     ]
    },
    {
     "name": "stderr",
     "output_type": "stream",
     "text": [
      "/Users/eshwarchandrasekharan/anaconda3/lib/python3.6/site-packages/sklearn/metrics/classification.py:1113: UndefinedMetricWarning: Precision and F-score are ill-defined and being set to 0.0 in labels with no predicted samples.\n",
      "  'precision', 'predicted', average, warn_for)\n"
     ]
    },
    {
     "name": "stdout",
     "output_type": "stream",
     "text": [
      "Accuracy: %f, Precision: %f, Recall: %f, F-score: %f 0.624949644152 0.565267626969 0.541609905926 0.550051575409\n",
      "Testing for clicks!\n",
      "Accuracy: %f, Precision: %f, Recall: %f, F-score: %f 0.624949644152 0.565267626969 0.541609905926 0.550051575409\n",
      "Fold  1\n",
      "Testing for clicks!\n",
      "Accuracy: %f, Precision: %f, Recall: %f, F-score: %f 0.688960515713 0.633545886337 0.626838400234 0.6240569113\n",
      "Testing for clicks!\n",
      "Accuracy: %f, Precision: %f, Recall: %f, F-score: %f 0.688960515713 0.633545886337 0.626838400234 0.6240569113\n",
      "Fold  2\n",
      "Testing for clicks!\n",
      "Accuracy: %f, Precision: %f, Recall: %f, F-score: %f 0.702793446146 0.612560742038 0.584390777365 0.588294992111\n",
      "Testing for clicks!\n",
      "Accuracy: %f, Precision: %f, Recall: %f, F-score: %f 0.702793446146 0.612560742038 0.584390777365 0.588294992111\n",
      "Fold  3\n",
      "Testing for clicks!\n",
      "Accuracy: %f, Precision: %f, Recall: %f, F-score: %f 0.676201987644 0.560536208193 0.602838566035 0.573359296413\n",
      "Testing for clicks!\n",
      "Accuracy: %f, Precision: %f, Recall: %f, F-score: %f 0.676201987644 0.560536208193 0.602838566035 0.573359296413\n",
      "Fold  4\n",
      "Testing for clicks!\n",
      "Accuracy: %f, Precision: %f, Recall: %f, F-score: %f 0.680365296804 0.588311359125 0.600776377527 0.584513367416\n",
      "Testing for clicks!\n",
      "Accuracy: %f, Precision: %f, Recall: %f, F-score: %f 0.680365296804 0.588311359125 0.600776377527 0.584513367416\n"
     ]
    }
   ],
   "source": [
    "###log buckets only\n",
    "#####CLASSIFICATION\n",
    "import pandas as pd\n",
    "from pandas.stats.api import ols\n",
    "from sklearn import datasets, linear_model\n",
    "import numpy as np\n",
    "from sklearn.pipeline import Pipeline\n",
    "from sklearn.svm import LinearSVC\n",
    "from sklearn.ensemble import RandomForestClassifier\n",
    "from sklearn.naive_bayes import MultinomialNB\n",
    "from sklearn.model_selection import cross_val_score\n",
    "from sklearn import svm\n",
    "from sklearn.cross_validation import cross_val_score, cross_val_predict\n",
    "from sklearn import metrics\n",
    "import math\n",
    "from sklearn.metrics import precision_recall_fscore_support\n",
    "from sklearn.metrics import accuracy_score\n",
    "\n",
    "train = pd.read_csv('jan_may_2017_links_cross_posting_info.csv')\n",
    "all_pages = list(train.buzz_account_display_name.unique())\n",
    "\n",
    "# subsample = 1\n",
    "subsample = 0\n",
    "\n",
    "if subsample == 1:\n",
    "    train = train[:1000]\n",
    "\n",
    "print(\"WITH cross-promotion features\")\n",
    "\n",
    "features = [\n",
    "       'ext_table1_consumptions_by_type__link_clicks',\n",
    "       'ext_table1_consumptions_by_type__other_clicks',\n",
    "       'ext_table1_reactions_like_total',\n",
    "       'ext_table1_stories_by_action_type__comment',\n",
    "       'ext_table1_stories_by_action_type__like',\n",
    "       'ext_table1_stories_by_action_type__share', 'ext_table1_engaged_fan',\n",
    "       'ext_table1_fan_reach', 'ext_table1_impressions',\n",
    "       'ext_table1_impressions_fan',\n",
    "        ]\n",
    "\n",
    "###convert to log-scale\n",
    "for feat in features:\n",
    "    train[feat] = np.log(train[feat]+1)\n",
    "\n",
    "alt_inf = len(all_pages) + 1\n",
    "train = train.replace(math.inf, alt_inf)\n",
    "\n",
    "# ####add the category variable for each of the pages in col_pages\n",
    "for pg in all_pages:\n",
    "    features.append(pg)\n",
    "\n",
    "\n",
    "###let's take log_100 instead of 10?\n",
    "\n",
    "train['clicks_bucket'] = (np.log(train['ext_twodays_consumptions_by_type__link_clicks']+1)).astype(int)\n",
    "train['share_bucket'] = (np.log(train['ext_twodays_stories_by_action_type__share']+1)).astype(int)\n",
    "\n",
    "y_clicks = train['clicks_bucket']\n",
    "y_share = train['share_bucket']\n",
    "\n",
    "metric = 'share'\n",
    "\n",
    "from sklearn.model_selection import KFold\n",
    "\n",
    "fold = 0\n",
    "cv_folds = 5\n",
    "kf = KFold(n_splits = cv_folds)\n",
    "\n",
    "X = train[features]\n",
    "\n",
    "for train_index, test_index in kf.split(X):\n",
    "    print(\"Fold \", fold)\n",
    "    fold += 1\n",
    "    \n",
    "    # metric = 'clicks'\n",
    "\n",
    "    if metric == 'share':\n",
    "        y = y_share\n",
    "        print(\"Testing for shares!\")\n",
    "    else:\n",
    "        y = y_clicks\n",
    "        print(\"Testing for clicks!\")\n",
    "\n",
    "    X_train, X_test = X.iloc[train_index], X.iloc[test_index]\n",
    "    y_train, y_test = y[train_index], y[test_index]\n",
    "\n",
    "    cv = 2\n",
    "    nb_alpha = 0.01\n",
    "    # classifier = 'svm'\n",
    "    classifier = 'nb'\n",
    "    # classifier = 'logit'\n",
    "    # classifier ='rf'\n",
    "    logit_c = 1e5\n",
    "\n",
    "    ####classifier\n",
    "    # clf = LinearSVC(C=1)\n",
    "    if classifier == 'nb':\n",
    "        clf = MultinomialNB(alpha = nb_alpha)\n",
    "    if classifier == 'logit':\n",
    "        clf = linear_model.LogisticRegression(C=logit_c)\n",
    "    #   Try penalty='l2' and 'l1'\n",
    "    if classifier == 'rf':\n",
    "        clf = RandomForestClassifier(max_depth=5, n_estimators=10, max_features=1)\n",
    "    else:\n",
    "        clf = svm.SVC(kernel='linear')\n",
    "        ###try different kernels\n",
    "\n",
    "    clf = clf.fit(X_train, y_train)\n",
    "    predicted = clf.predict(X_test)\n",
    "#     print(\"Performance on \", metric, \" : \", precision_recall_fscore_support(y_test, predicted, average='macro'))  \n",
    "    precision, recall, fscore, support = precision_recall_fscore_support(y_test, predicted, average='macro')\n",
    "    accuracy = accuracy_score(y_test, predicted)\n",
    "    print(\"Accuracy: %f, Precision: %f, Recall: %f, F-score: %f\", accuracy, precision, recall, fscore)\n",
    "    # predicted = cross_val_predict(clf, X, y, cv=cv)\n",
    "# scores = metrics.accuracy_score(y, predicted)\n",
    "# # scores = cross_val_score(clf, X, y, cv = 10)\n",
    "# # print(\"Accuracy: %0.2f (+/- %0.2f)\" % (scores.mean(), scores.std() * 2))\n",
    "# print(\"Accuracy: \", scores)\n",
    "\n",
    "    # metric = 'share'\n",
    "    metric = 'clicks'\n",
    "\n",
    "    if metric == 'share':\n",
    "        y = y_share\n",
    "        print(\"Testing for shares!\")\n",
    "    else:\n",
    "        y = y_clicks\n",
    "        print(\"Testing for clicks!\")\n",
    "\n",
    "    ####classifier\n",
    "    # clf = LinearSVC(C=1)\n",
    "    if classifier == 'nb':\n",
    "        clf = MultinomialNB(alpha = nb_alpha)\n",
    "    if classifier == 'logit':\n",
    "        clf = linear_model.LogisticRegression(C=logit_c)\n",
    "    #   Try penalty='l2' and 'l1'\n",
    "    if classifier == 'rf':\n",
    "        clf = RandomForestClassifier(max_depth=5, n_estimators=10, max_features=1)\n",
    "    else:\n",
    "        clf = svm.SVC(kernel='linear')\n",
    "        ###try different kernels\n",
    "    clf = clf.fit(X_train, y_train)\n",
    "    predicted = clf.predict(X_test)\n",
    "    precision, recall, fscore, support = precision_recall_fscore_support(y_test, predicted, average='macro')\n",
    "    accuracy = accuracy_score(y_test, predicted)\n",
    "    print(\"Accuracy: %f, Precision: %f, Recall: %f, F-score: %f\", accuracy, precision, recall, fscore)\n",
    "   \n",
    "# predicted = cross_val_predict(clf, X, y, cv=cv)\n",
    "# scores = metrics.accuracy_score(y, predicted)\n",
    "# # scores = cross_val_score(clf, X, y, cv = 10)\n",
    "# # print(\"Accuracy: %0.2f (+/- %0.2f)\" % (scores.mean(), scores.std() * 2))\n",
    "# print(\"Accuracy: \", scores)"
   ]
  },
  {
   "cell_type": "code",
   "execution_count": null,
   "metadata": {
    "collapsed": false
   },
   "outputs": [],
   "source": []
  },
  {
   "cell_type": "code",
   "execution_count": null,
   "metadata": {
    "collapsed": false
   },
   "outputs": [],
   "source": []
  },
  {
   "cell_type": "code",
   "execution_count": null,
   "metadata": {
    "collapsed": false
   },
   "outputs": [],
   "source": []
  },
  {
   "cell_type": "code",
   "execution_count": null,
   "metadata": {
    "collapsed": false
   },
   "outputs": [],
   "source": []
  },
  {
   "cell_type": "code",
   "execution_count": null,
   "metadata": {
    "collapsed": true
   },
   "outputs": [],
   "source": []
  }
 ],
 "metadata": {
  "kernelspec": {
   "display_name": "Python 3",
   "language": "python",
   "name": "python3"
  },
  "language_info": {
   "codemirror_mode": {
    "name": "ipython",
    "version": 3
   },
   "file_extension": ".py",
   "mimetype": "text/x-python",
   "name": "python",
   "nbconvert_exporter": "python",
   "pygments_lexer": "ipython3",
   "version": "3.6.0"
  }
 },
 "nbformat": 4,
 "nbformat_minor": 2
}
