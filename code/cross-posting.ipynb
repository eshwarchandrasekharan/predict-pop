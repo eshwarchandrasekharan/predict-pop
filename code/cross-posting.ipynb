{
 "cells": [
  {
   "cell_type": "code",
   "execution_count": 2,
   "metadata": {
    "collapsed": false
   },
   "outputs": [],
   "source": [
    "import pandas as pd\n",
    "\n",
    "###load all the datasets\n",
    "##meta_data file\n",
    "filepath = \"/Users/eshwarchandrasekharan/Desktop/buzzed_code/\"\n",
    "meta_df = pd.read_csv(filepath + 'facebook/post_metadata_5-18.csv', index_col=0)\n",
    "meta_df = meta_df.fillna(0)\n",
    "\n",
    "##all data file\n",
    "all_df = pd.read_csv(filepath + 'facebook/post_stats_5-18.csv', index_col=0)\n",
    "all_df = all_df.fillna(0)"
   ]
  },
  {
   "cell_type": "code",
   "execution_count": 94,
   "metadata": {
    "collapsed": false
   },
   "outputs": [],
   "source": [
    "import random\n",
    "sample_id = random.choice(meta_df['buzz_id'])"
   ]
  },
  {
   "cell_type": "code",
   "execution_count": 95,
   "metadata": {
    "collapsed": false
   },
   "outputs": [
    {
     "data": {
      "text/html": [
       "<div>\n",
       "<table border=\"1\" class=\"dataframe\">\n",
       "  <thead>\n",
       "    <tr style=\"text-align: right;\">\n",
       "      <th></th>\n",
       "      <th>external_id</th>\n",
       "      <th>parent_external_id</th>\n",
       "      <th>created_at</th>\n",
       "      <th>page</th>\n",
       "      <th>post_type</th>\n",
       "      <th>buzz_id</th>\n",
       "      <th>uri</th>\n",
       "      <th>title</th>\n",
       "    </tr>\n",
       "  </thead>\n",
       "  <tbody>\n",
       "    <tr>\n",
       "      <th>27893</th>\n",
       "      <td>491452930867938_1570179012995319</td>\n",
       "      <td>0.0</td>\n",
       "      <td>2017-02-25 03:30:06.912389</td>\n",
       "      <td>BuzzFeed Food</td>\n",
       "      <td>link</td>\n",
       "      <td>4471325</td>\n",
       "      <td>restaurant-kitchen-frustrations</td>\n",
       "      <td>22 Struggles Only People Who've Worked In A Re...</td>\n",
       "    </tr>\n",
       "    <tr>\n",
       "      <th>28018</th>\n",
       "      <td>21898300328_10155782515165329</td>\n",
       "      <td>0.0</td>\n",
       "      <td>2017-02-25 22:16:10.495083</td>\n",
       "      <td>BuzzFeed</td>\n",
       "      <td>link</td>\n",
       "      <td>4471325</td>\n",
       "      <td>restaurant-kitchen-frustrations</td>\n",
       "      <td>22 Struggles Only People Who've Worked In A Re...</td>\n",
       "    </tr>\n",
       "    <tr>\n",
       "      <th>30647</th>\n",
       "      <td>1614251518827491_1881967252055915</td>\n",
       "      <td>0.0</td>\n",
       "      <td>2017-02-28 02:00:06.967880</td>\n",
       "      <td>Tasty</td>\n",
       "      <td>link</td>\n",
       "      <td>4471325</td>\n",
       "      <td>restaurant-kitchen-frustrations</td>\n",
       "      <td>22 Struggles Only People Who've Worked In A Re...</td>\n",
       "    </tr>\n",
       "    <tr>\n",
       "      <th>27224</th>\n",
       "      <td>1412984988933193_1958457004385986</td>\n",
       "      <td>0.0</td>\n",
       "      <td>2017-02-28 20:15:11.122585</td>\n",
       "      <td>BuzzFeed Australia</td>\n",
       "      <td>link</td>\n",
       "      <td>4471325</td>\n",
       "      <td>restaurant-kitchen-frustrations</td>\n",
       "      <td>22 Struggles Only People Who've Worked In A Re...</td>\n",
       "    </tr>\n",
       "    <tr>\n",
       "      <th>30425</th>\n",
       "      <td>574931839201643_1703853979642751</td>\n",
       "      <td>0.0</td>\n",
       "      <td>2017-03-01 13:09:40.218737</td>\n",
       "      <td>BuzzFeed UK</td>\n",
       "      <td>link</td>\n",
       "      <td>4471325</td>\n",
       "      <td>restaurant-kitchen-frustrations</td>\n",
       "      <td>22 Struggles Only People Who've Worked In A Re...</td>\n",
       "    </tr>\n",
       "  </tbody>\n",
       "</table>\n",
       "</div>"
      ],
      "text/plain": [
       "                             external_id  parent_external_id  \\\n",
       "27893   491452930867938_1570179012995319                 0.0   \n",
       "28018      21898300328_10155782515165329                 0.0   \n",
       "30647  1614251518827491_1881967252055915                 0.0   \n",
       "27224  1412984988933193_1958457004385986                 0.0   \n",
       "30425   574931839201643_1703853979642751                 0.0   \n",
       "\n",
       "                       created_at                page post_type  buzz_id  \\\n",
       "27893  2017-02-25 03:30:06.912389       BuzzFeed Food      link  4471325   \n",
       "28018  2017-02-25 22:16:10.495083            BuzzFeed      link  4471325   \n",
       "30647  2017-02-28 02:00:06.967880               Tasty      link  4471325   \n",
       "27224  2017-02-28 20:15:11.122585  BuzzFeed Australia      link  4471325   \n",
       "30425  2017-03-01 13:09:40.218737         BuzzFeed UK      link  4471325   \n",
       "\n",
       "                                   uri  \\\n",
       "27893  restaurant-kitchen-frustrations   \n",
       "28018  restaurant-kitchen-frustrations   \n",
       "30647  restaurant-kitchen-frustrations   \n",
       "27224  restaurant-kitchen-frustrations   \n",
       "30425  restaurant-kitchen-frustrations   \n",
       "\n",
       "                                                   title  \n",
       "27893  22 Struggles Only People Who've Worked In A Re...  \n",
       "28018  22 Struggles Only People Who've Worked In A Re...  \n",
       "30647  22 Struggles Only People Who've Worked In A Re...  \n",
       "27224  22 Struggles Only People Who've Worked In A Re...  \n",
       "30425  22 Struggles Only People Who've Worked In A Re...  "
      ]
     },
     "execution_count": 95,
     "metadata": {},
     "output_type": "execute_result"
    }
   ],
   "source": [
    "meta_df[meta_df.buzz_id == sample_id].sort_values('created_at', ascending = 1)"
   ]
  },
  {
   "cell_type": "code",
   "execution_count": 13,
   "metadata": {
    "collapsed": false
   },
   "outputs": [
    {
     "name": "stdout",
     "output_type": "stream",
     "text": [
      "The Nominee Who Won't Be At The Oscars Is The One Who Matters Most\n",
      "The Nominee Who Won't Be At The Oscars Is The One Who Matters Most\n",
      "The Nominee Who Won't Be At The Oscars Is The One Who Matters Most\n",
      "The Nominee Who Won't Be At The Oscars Is The One Who Matters Most\n"
     ]
    }
   ],
   "source": [
    "for title in meta_df[meta_df.buzz_id == sample_id].title:\n",
    "    print(title)"
   ]
  },
  {
   "cell_type": "code",
   "execution_count": 15,
   "metadata": {
    "collapsed": false
   },
   "outputs": [
    {
     "data": {
      "text/html": [
       "<div>\n",
       "<table border=\"1\" class=\"dataframe\">\n",
       "  <thead>\n",
       "    <tr style=\"text-align: right;\">\n",
       "      <th></th>\n",
       "      <th>external_id</th>\n",
       "      <th>parent_external_id</th>\n",
       "      <th>created_at</th>\n",
       "      <th>page</th>\n",
       "      <th>post_type</th>\n",
       "      <th>buzz_id</th>\n",
       "      <th>uri</th>\n",
       "      <th>title</th>\n",
       "    </tr>\n",
       "  </thead>\n",
       "  <tbody>\n",
       "    <tr>\n",
       "      <th>54510</th>\n",
       "      <td>560066014088988_1333195940109321</td>\n",
       "      <td>0.0</td>\n",
       "      <td>2017-05-20 17:30:41.155736</td>\n",
       "      <td>BuzzFeed Quiz</td>\n",
       "      <td>link</td>\n",
       "      <td>4530023</td>\n",
       "      <td>the-last-supper</td>\n",
       "      <td>We'll Reveal When You're Going To Die, But Fir...</td>\n",
       "    </tr>\n",
       "    <tr>\n",
       "      <th>54821</th>\n",
       "      <td>491452930867938_1670316296314923</td>\n",
       "      <td>0.0</td>\n",
       "      <td>2017-05-22 14:48:19.863178</td>\n",
       "      <td>BuzzFeed Food</td>\n",
       "      <td>link</td>\n",
       "      <td>4530023</td>\n",
       "      <td>the-last-supper</td>\n",
       "      <td>We'll Reveal When You're Going To Die, But Fir...</td>\n",
       "    </tr>\n",
       "  </tbody>\n",
       "</table>\n",
       "</div>"
      ],
      "text/plain": [
       "                            external_id  parent_external_id  \\\n",
       "54510  560066014088988_1333195940109321                 0.0   \n",
       "54821  491452930867938_1670316296314923                 0.0   \n",
       "\n",
       "                       created_at           page post_type  buzz_id  \\\n",
       "54510  2017-05-20 17:30:41.155736  BuzzFeed Quiz      link  4530023   \n",
       "54821  2017-05-22 14:48:19.863178  BuzzFeed Food      link  4530023   \n",
       "\n",
       "                   uri                                              title  \n",
       "54510  the-last-supper  We'll Reveal When You're Going To Die, But Fir...  \n",
       "54821  the-last-supper  We'll Reveal When You're Going To Die, But Fir...  "
      ]
     },
     "execution_count": 15,
     "metadata": {},
     "output_type": "execute_result"
    }
   ],
   "source": [
    "meta_df[meta_df.title== \"We'll Reveal When You're Going To Die, But First Choose Your Last Meal On Earth\"]"
   ]
  },
  {
   "cell_type": "code",
   "execution_count": 43,
   "metadata": {
    "collapsed": false
   },
   "outputs": [],
   "source": [
    "### Which pages co-occur the most? What's the most common cross-promoting pattern?\n",
    "cooccur = {}\n",
    "\n",
    "for link_id in meta_df.buzz_id.unique():\n",
    "#     print(link_id)\n",
    "    temp = meta_df[meta_df.buzz_id == link_id]\n",
    "    temp = temp.sort_values('created_at', ascending = 1)\n",
    "    pages = temp.page.unique()\n",
    "    for page in pages:\n",
    "        crosspost = pages\n",
    "        ###drop page from crosspost\n",
    "        try:\n",
    "            cooccur[page].append(crosspost)\n",
    "        except:\n",
    "            cooccur[page] = crosspost"
   ]
  },
  {
   "cell_type": "code",
   "execution_count": 68,
   "metadata": {
    "collapsed": false
   },
   "outputs": [
    {
     "data": {
      "text/plain": [
       "'SOML'"
      ]
     },
     "execution_count": 68,
     "metadata": {},
     "output_type": "execute_result"
    }
   ],
   "source": [
    "l = {}\n",
    "for key in cooccur:\n",
    "    l[key] = len(cooccur[key])\n",
    "max(l, key=l.get)"
   ]
  },
  {
   "cell_type": "code",
   "execution_count": 76,
   "metadata": {
    "collapsed": false
   },
   "outputs": [
    {
     "data": {
      "text/plain": [
       "(45,\n",
       " ['BuzzFeed Books',\n",
       "  'BuzzFeed España',\n",
       "  'BuzzFeed Scotland',\n",
       "  'BuzzFeed Style',\n",
       "  'BuzzFeed Parents',\n",
       "  'BuzzFeed News BR',\n",
       "  'BuzzFeed News',\n",
       "  'BuzzFeed Celeb',\n",
       "  'BuzzFeed DIY',\n",
       "  'LOLA',\n",
       "  'BuzzFeed Politics',\n",
       "  'BuzzFeed World',\n",
       "  'BuzzFeed UK News',\n",
       "  'Cheeky',\n",
       "  'So Relatable',\n",
       "  'BuzzFeed France',\n",
       "  'BuzzFeed Philippines',\n",
       "  'BuzzFeed Health',\n",
       "  'BuzzFeed Deutschland',\n",
       "  'BuzzFeed Rewind',\n",
       "  'BuzzFeed Animals',\n",
       "  'BuzzFeed Reader',\n",
       "  'BuzzFeed Español',\n",
       "  'BuzzFeed India',\n",
       "  'BuzzFeed Brasil',\n",
       "  'BuzzFeed Oz Politics',\n",
       "  'BuzzFeed France News',\n",
       "  'BuzzFeed Tech',\n",
       "  'BuzzFeed Geeky',\n",
       "  'BuzzFeed México',\n",
       "  'Quizzes En Español',\n",
       "  'Pero Like',\n",
       "  'BuzzFeed UK Politics',\n",
       "  'BuzzFeed Open Lab',\n",
       "  'Bien Tasty',\n",
       "  'BuzzFeed Kevin N.',\n",
       "  'Nifty Science',\n",
       "  'BuzzFeed Japan',\n",
       "  'BuzzFeed Japan News',\n",
       "  'BuzzFeed Partner',\n",
       "  'Oh Great, More Politics',\n",
       "  'BuzzFeed Pink',\n",
       "  'See Something Say Something',\n",
       "  'Tasty One-Pot',\n",
       "  'Tasty Japan'])"
      ]
     },
     "execution_count": 76,
     "metadata": {},
     "output_type": "execute_result"
    }
   ],
   "source": [
    "search_copost = 1\n",
    "loners = []\n",
    "for key in l:\n",
    "    if l[key] == search_copost:\n",
    "        loners.append(key)\n",
    "        \n",
    "len(loners), loners"
   ]
  },
  {
   "cell_type": "code",
   "execution_count": null,
   "metadata": {
    "collapsed": false
   },
   "outputs": [],
   "source": []
  },
  {
   "cell_type": "code",
   "execution_count": null,
   "metadata": {
    "collapsed": false
   },
   "outputs": [],
   "source": []
  },
  {
   "cell_type": "code",
   "execution_count": null,
   "metadata": {
    "collapsed": false
   },
   "outputs": [],
   "source": []
  },
  {
   "cell_type": "code",
   "execution_count": 177,
   "metadata": {
    "collapsed": false
   },
   "outputs": [
    {
     "name": "stdout",
     "output_type": "stream",
     "text": [
      "Page =  BuzzFeed Books\n",
      "BuzzFeed Books: Top 100 shared articles!\n",
      "12 1 4.26\n",
      "17\n",
      "BuzzFeed Books: Top 100 clicked articles!\n",
      "12 1 4.77\n",
      "11\n",
      "Page =  Tasty\n",
      "Tasty: Top 100 shared articles!\n",
      "11 2 5.49\n",
      "0\n",
      "Tasty: Top 100 clicked articles!\n",
      "12 2 6.07\n",
      "0\n",
      "Page =  BuzzFeed España\n",
      "BuzzFeed España: Top 100 shared articles!\n",
      "4 1 1.83\n",
      "40\n",
      "BuzzFeed España: Top 100 clicked articles!\n",
      "4 1 1.94\n",
      "32\n",
      "Page =  BuzzFeed Scotland\n",
      "BuzzFeed Scotland: Top 100 shared articles!\n",
      "11 1 2.29\n",
      "39\n",
      "BuzzFeed Scotland: Top 100 clicked articles!\n",
      "11 1 2.14\n",
      "39\n",
      "Page =  SOML\n",
      "SOML: Top 100 shared articles!\n",
      "11 1 5.74\n",
      "3\n",
      "SOML: Top 100 clicked articles!\n",
      "11 1 5.78\n",
      "2\n",
      "Page =  BuzzFeed News BR\n",
      "BuzzFeed News BR: Top 100 shared articles!\n",
      "2 1 1.01\n",
      "99\n",
      "BuzzFeed News BR: Top 100 clicked articles!\n",
      "2 1 1.05\n",
      "95\n",
      "Page =  Proper Tasty\n",
      "Proper Tasty: Top 100 shared articles!\n",
      "6 2 3.75\n",
      "0\n",
      "Proper Tasty: Top 100 clicked articles!\n",
      "6 2 3.75\n",
      "0\n"
     ]
    }
   ],
   "source": [
    "####top 1% of most clicked/shared articles - how many of these were cross-promoted/posted?\n",
    "\n",
    "import pandas as pd\n",
    "from pandas.stats.api import ols\n",
    "from sklearn import datasets, linear_model\n",
    "from sklearn.model_selection import train_test_split\n",
    "from matplotlib import pyplot as plt\n",
    "%matplotlib inline\n",
    "\n",
    "pages = ['BuzzFeed Books', 'Tasty', 'BuzzFeed España', 'BuzzFeed Scotland', 'SOML', 'BuzzFeed News BR', 'Proper Tasty',]\n",
    "# page_info = pd.read_csv('datapoints/data-points-Tasty.csv')\n",
    "\n",
    "for page in pages:\n",
    "    page_info = pd.read_csv(filepath + 'datapoints/data-points-' + page + '.csv')\n",
    "    ###SHARES\n",
    "    print(\"Page = \",page)\n",
    "    print(page + \": Top 100 shared articles!\")\n",
    "    top100_clicks = page_info.sort_values('24_hours_share', ascending = False)[:100]['external_id']\n",
    "\n",
    "    crosspost_info = pd.read_csv(filepath+'facebook/post_metadata_5-18.csv')\n",
    "    crosspromotions = []\n",
    "\n",
    "    for link in top100_clicks:\n",
    "        buzzid = crosspost_info[crosspost_info.external_id == link].buzz_id.values[0]\n",
    "        temp = crosspost_info[crosspost_info.buzz_id == buzzid]\n",
    "#         print (link, \" : \", buzzid, \" ; crosspromoted \", len(temp), \" time(s)!\")\n",
    "        crosspromotions.append(len(temp))\n",
    "    #     temp = temp.sort_values('created_at', ascending = 1)\n",
    "    #     pages = temp.page.unique()\n",
    "    #     for page in pages:\n",
    "    #         crosspost = pages\n",
    "    #         ###drop page from crosspost\n",
    "    #         try:\n",
    "    #             cooccur[page].append(crosspost)\n",
    "    #         except:\n",
    "    #             cooccur[page] = crosspost\n",
    "    print(max(crosspromotions), min(crosspromotions), sum(crosspromotions)/len(crosspromotions))\n",
    "    count1 = 0\n",
    "    for i in crosspromotions:\n",
    "        if i == 1:\n",
    "            count1 +=1\n",
    "    print(count1)\n",
    "\n",
    "    ###CLICKS\n",
    "    print(page + \": Top 100 clicked articles!\")\n",
    "    top100_clicks = page_info.sort_values('24_hours_clicks', ascending = False)[:100]['external_id']\n",
    "\n",
    "    crosspost_info = pd.read_csv(filepath+'facebook/post_metadata_5-18.csv')\n",
    "    crosspromotions = []\n",
    "\n",
    "    for link in top100_clicks:\n",
    "        buzzid = crosspost_info[crosspost_info.external_id == link].buzz_id.values[0]\n",
    "        temp = crosspost_info[crosspost_info.buzz_id == buzzid]\n",
    "#         print (link, \" : \", buzzid, \" ; crosspromoted \", len(temp), \" time(s)!\")\n",
    "        crosspromotions.append(len(temp))\n",
    "    #     temp = temp.sort_values('created_at', ascending = 1)\n",
    "    #     pages = temp.page.unique()\n",
    "    #     for page in pages:\n",
    "    #         crosspost = pages\n",
    "    #         ###drop page from crosspost\n",
    "    #         try:\n",
    "    #             cooccur[page].append(crosspost)\n",
    "    #         except:\n",
    "    #             cooccur[page] = crosspost\n",
    "    print(max(crosspromotions), min(crosspromotions), sum(crosspromotions)/len(crosspromotions))\n",
    "    count1 = 0\n",
    "    for i in crosspromotions:\n",
    "        if i == 1:\n",
    "            count1 +=1\n",
    "    print(count1)"
   ]
  },
  {
   "cell_type": "code",
   "execution_count": 171,
   "metadata": {
    "collapsed": false
   },
   "outputs": [
    {
     "data": {
      "text/plain": [
       "(12, 1, 4.77)"
      ]
     },
     "execution_count": 171,
     "metadata": {},
     "output_type": "execute_result"
    }
   ],
   "source": []
  },
  {
   "cell_type": "code",
   "execution_count": 173,
   "metadata": {
    "collapsed": false
   },
   "outputs": [
    {
     "name": "stdout",
     "output_type": "stream",
     "text": [
      "11\n"
     ]
    }
   ],
   "source": [
    "count1 = 0\n",
    "for i in crosspromotions:\n",
    "    if i == 1:\n",
    "        count1 +=1\n",
    "print(count1)"
   ]
  },
  {
   "cell_type": "code",
   "execution_count": null,
   "metadata": {
    "collapsed": true
   },
   "outputs": [],
   "source": []
  }
 ],
 "metadata": {
  "kernelspec": {
   "display_name": "Python 3",
   "language": "python",
   "name": "python3"
  },
  "language_info": {
   "codemirror_mode": {
    "name": "ipython",
    "version": 3
   },
   "file_extension": ".py",
   "mimetype": "text/x-python",
   "name": "python",
   "nbconvert_exporter": "python",
   "pygments_lexer": "ipython3",
   "version": "3.6.0"
  }
 },
 "nbformat": 4,
 "nbformat_minor": 2
}
