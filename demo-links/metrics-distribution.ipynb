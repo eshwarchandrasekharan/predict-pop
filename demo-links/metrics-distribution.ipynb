{
 "cells": [
  {
   "cell_type": "code",
   "execution_count": 1,
   "metadata": {
    "collapsed": true
   },
   "outputs": [],
   "source": [
    "import pandas as pd\n",
    "from matplotlib import pyplot as plt\n",
    "%matplotlib inline\n",
    "\n",
    "filepath = \"/Users/eshwarchandrasekharan/Desktop/repo/predict-pop/models-links/\"\n",
    "train_df = pd.read_csv(filepath + 'radshift_links_cross_posting_info.csv')"
   ]
  },
  {
   "cell_type": "code",
   "execution_count": 7,
   "metadata": {
    "collapsed": false
   },
   "outputs": [],
   "source": [
    "predictor_vars = ['consumptions_by_type__link_clicks', 'stories_by_action_type__share']\n",
    "response_vars = ['twoday_consumptions_by_type__link_clicks', 'twoday_stories_by_action_type__share']"
   ]
  },
  {
   "cell_type": "code",
   "execution_count": 14,
   "metadata": {
    "collapsed": false
   },
   "outputs": [],
   "source": [
    "# y = train_df[predictor_vars]\n",
    "y = train_df[response_vars]"
   ]
  },
  {
   "cell_type": "code",
   "execution_count": 15,
   "metadata": {
    "collapsed": false
   },
   "outputs": [
    {
     "data": {
      "text/plain": [
       "array([[<matplotlib.axes._subplots.AxesSubplot object at 0x10e83f5c0>,\n",
       "        <matplotlib.axes._subplots.AxesSubplot object at 0x10e981198>]], dtype=object)"
      ]
     },
     "execution_count": 15,
     "metadata": {},
     "output_type": "execute_result"
    },
    {
     "data": {
      "image/png": "[encoded data removed]",
      "text/plain": [
       "<matplotlib.figure.Figure at 0x10d4cc400>"
      ]
     },
     "metadata": {},
     "output_type": "display_data"
    }
   ],
   "source": [
    "import numpy as np\n",
    "np.log(y+1).hist()"
   ]
  },
  {
   "cell_type": "code",
   "execution_count": 21,
   "metadata": {
    "collapsed": false
   },
   "outputs": [
    {
     "name": "stdout",
     "output_type": "stream",
     "text": [
      "Task 3 viz!\n"
     ]
    }
   ],
   "source": [
    "print(\"Task 3 viz!\")"
   ]
  },
  {
   "cell_type": "code",
   "execution_count": 69,
   "metadata": {
    "collapsed": false
   },
   "outputs": [
    {
     "name": "stdout",
     "output_type": "stream",
     "text": [
      "TREE REGRESSION!\n",
      "Performance stats with page names, and also cross-promotion order included!\n",
      "No. of data-points =  38769\n",
      "Log scaled!\n",
      "Shares performance: Accuracy =  0.657504952536  ; Error (/100) =  0.212635259128\n",
      "Clicks performance: Accuracy =  0.72162568958  ; Error (/100) =  0.0910447974771\n",
      "Converting log-scale values back to exponents!\n",
      "Shares!\n",
      "R2:  0.779841664485\n",
      "Error (\\100):  0.516329793952\n",
      "Mean:  118.348990173\n",
      "Clicks!\n",
      "R2:  0.779658862269\n",
      "Error (\\100):  0.398451498565\n",
      "Mean:  10139.2730016\n"
     ]
    }
   ],
   "source": [
    "import pandas as pd\n",
    "from pandas.stats.api import ols\n",
    "from sklearn import datasets, linear_model\n",
    "from sklearn.model_selection import train_test_split\n",
    "from matplotlib import pyplot as plt\n",
    "import math\n",
    "%matplotlib inline\n",
    "import numpy as np\n",
    "import pandas as pd\n",
    "from sklearn.linear_model import LinearRegression\n",
    "from sklearn.svm import SVR\n",
    "from sklearn.cross_validation import train_test_split\n",
    "import math\n",
    "\n",
    "from sklearn.cross_validation import cross_val_score, cross_val_predict\n",
    "from sklearn import metrics\n",
    "\n",
    "filepath = '/Users/eshwarchandrasekharan/Desktop/repo/predict-pop/models-links/'\n",
    "train_df = pd.read_csv(filepath + 'radshift-links-previous-to-next-page-info.csv')\n",
    "\n",
    "one_hour_features = [\n",
    "       'consumptions_by_type__link_clicks',\n",
    "       'consumptions_by_type__other_clicks',\n",
    "       'reactions_like_total',\n",
    "       'stories_by_action_type__comment',\n",
    "       'stories_by_action_type__like',\n",
    "       'stories_by_action_type__share', \n",
    "        'engaged_fan',\n",
    "       'fan_reach', \n",
    "    'impressions',\n",
    "       'impressions_fan',\n",
    "                ]\n",
    "\n",
    "two_day_features = [\n",
    "       'twoday_consumptions_by_type__link_clicks',\n",
    "       'twoday_stories_by_action_type__share',\n",
    "]\n",
    "\n",
    "all_pages = train_df['page'].unique()\n",
    "cross_promotion_features = all_pages\n",
    "\n",
    "# train_features = one_hour_features\n",
    "# print(\"ONLY 1 HOUR PERFORMANCE IN PREVIOUS PAGE\")\n",
    "# print('SHARES:')\n",
    "# res = ols(y = train_df['next_shares'], x = train_df[train_features])\n",
    "# print(res)\n",
    "# print('CLICKS:')\n",
    "# res = ols(y = train_df['next_clicks'], x = train_df[train_features])\n",
    "# print(res)\n",
    "# train_features = one_hour_features + page_infos# + cross_promotion_features\n",
    "# for feat in cross_promotion_features:\n",
    "#     train_features.append(feat)\n",
    "# train_features\n",
    "\n",
    "# from sklearn import linear_model\n",
    "# clf = linear_model.LinearRegression()\n",
    "# print(\"LINEAR REGRESSION!\")\n",
    "\n",
    "from sklearn.tree import DecisionTreeRegressor\n",
    "clf = DecisionTreeRegressor(max_depth = 10)\n",
    "print(\"TREE REGRESSION!\")\n",
    "\n",
    "# train_df = pd.read_csv('radshift-links-previous-to-next-page-info.csv')\n",
    "# all_pages = list(train_df.page.unique())\n",
    "\n",
    "print(\"Performance stats with page names, and also cross-promotion order included!\")\n",
    "# print(\"WITH cross-promotion features\")\n",
    "\n",
    "page_infos = ['page', 'next_page']\n",
    "\n",
    "# train_features = one_hour_features\n",
    "# train_features = one_hour_features + page_infos + cross_promotion_features\n",
    "train_features = one_hour_features + page_infos\n",
    "# train_features = cross_promotion_features + one_hour_features\n",
    "\n",
    "log_scale = 1\n",
    "# log_scale = 0\n",
    "\n",
    "if log_scale == 1:\n",
    "    for feat in one_hour_features:\n",
    "        train_df[feat] = np.log(train_df[feat] + 1)\n",
    "\n",
    "# cross_promote = 0\n",
    "cross_promote = 1\n",
    "\n",
    "if cross_promote == 1:\n",
    "    for feat in cross_promotion_features:\n",
    "        train_features.append(feat)\n",
    "        \n",
    "# train_features = two_day_features + one_hour_features + cross_promotion_features\n",
    "\n",
    "# for feats in (one_hour_features):\n",
    "#     train_df[feats] = np.log(train_df[feats] + 1)\n",
    "\n",
    "# lm = linear_model.LinearRegression(fit_intercept=True, normalize=True)\n",
    "cv = 10\n",
    "\n",
    "train_df['clicks_bucket'] = np.log(train_df['next_clicks'] + 1)\n",
    "train_df['share_bucket'] = np.log(train_df['next_shares']+1)\n",
    "# train_df['clicks_bucket'] = np.log(train_df['next_clicks'] + 1).astype(int)\n",
    "# train_df['share_bucket'] = np.log(train_df['next_shares']+1).astype(int)\n",
    "\n",
    "print(\"No. of data-points = \", len(train_df))\n",
    "\n",
    "if log_scale == 0:\n",
    "    print(\"Raw values!\")\n",
    "    y_clicks = train_df['next_clicks']\n",
    "    y_share = train_df['next_shares']\n",
    "else:\n",
    "    print(\"Log scaled!\")\n",
    "    y_clicks = train_df['clicks_bucket']\n",
    "    y_share = train_df['share_bucket']\n",
    "\n",
    "###generate DFs for analysis - X and Y\n",
    "X = train_df[train_features]\n",
    "####convert page_infos into dummies\n",
    "X = pd.get_dummies(data = X, columns=['page', 'next_page'])\n",
    "\n",
    "from sklearn.model_selection import KFold\n",
    "\n",
    "fold = 0\n",
    "cv_folds = 10\n",
    "kf = KFold(n_splits = cv_folds, shuffle = True)\n",
    "\n",
    "clicks_accuracy = []\n",
    "clicks_error = []\n",
    "shares_accuracy = []\n",
    "shares_error = []\n",
    "\n",
    "share_cv_y_test = []\n",
    "share_cv_y_pred = []\n",
    "clicks_cv_y_test = []\n",
    "clicks_cv_y_pred = []\n",
    "\n",
    "for train_index, test_index in kf.split(X):\n",
    "#     print(\"Fold = \", fold)\n",
    "#     print(\"Shares: Fold = \", fold)\n",
    "    y = y_share\n",
    "    X_train, X_test = X.iloc[train_index], X.iloc[test_index]\n",
    "    y_train, y_test = y[train_index], y[test_index]\n",
    "    clf.fit(X, y)\n",
    "    y_pred = clf.predict(X_test)\n",
    "    \n",
    "    ####\n",
    "    for pt in y_test:\n",
    "        share_cv_y_test.append(pt)\n",
    "    for pt in y_pred:\n",
    "        share_cv_y_pred.append(pt)\n",
    "        \n",
    "    accuracy = metrics.r2_score(y_test, y_pred)\n",
    "#     print(\"Cross-Predicted Accuracy (R2):\", accuracy)\n",
    "    shares_accuracy.append(accuracy)\n",
    "    from sklearn.metrics import mean_absolute_error\n",
    "    # print(\"Mean Absolute Error: \", mean_absolute_error(y, predictions))\n",
    "    error_percent = mean_absolute_error(y_test, y_pred)/y.mean()\n",
    "#     print(\"Mean values (share): \", y_test.mean(), \" | percent error: \",  error_percent)\n",
    "    shares_error.append(error_percent)\n",
    "    \n",
    "#     print(\"Clicks: Fold = \", fold)\n",
    "    y = y_clicks\n",
    "    X_train, X_test = X.iloc[train_index], X.iloc[test_index]\n",
    "    y_train, y_test = y[train_index], y[test_index]\n",
    "    clf.fit(X, y)\n",
    "    y_pred = clf.predict(X_test)\n",
    "    \n",
    "    ####\n",
    "    for pt in y_test:\n",
    "        clicks_cv_y_test.append(pt)\n",
    "    for pt in y_pred:\n",
    "        clicks_cv_y_pred.append(pt)\n",
    "\n",
    "    accuracy = metrics.r2_score(y_test, y_pred)\n",
    "#     print(\"Cross-Predicted Accuracy (R2):\", accuracy)\n",
    "    clicks_accuracy.append(accuracy)\n",
    "    from sklearn.metrics import mean_absolute_error\n",
    "    # print(\"Mean Absolute Error: \", mean_absolute_error(y, predictions))\n",
    "    error_percent = mean_absolute_error(y_test, y_pred)/y.mean()\n",
    "#     print(\"Mean values (share): \", y_test.mean(), \" | percent error: \",  error_percent)\n",
    "    clicks_error.append(error_percent)\n",
    "    fold += 1\n",
    "print(\"Shares performance: Accuracy = \", np.mean(shares_accuracy), \" ; Error (/100) = \", np.mean(shares_error))\n",
    "print(\"Clicks performance: Accuracy = \", np.mean(clicks_accuracy), \" ; Error (/100) = \", np.mean(clicks_error))\n",
    "\n",
    "if log_scale == 1:\n",
    "    ##share\n",
    "    print(\"Converting log-scale values back to exponents!\")\n",
    "    print('Shares!')\n",
    "    accuracy = metrics.r2_score(np.exp(share_cv_y_test)-1, np.exp(share_cv_y_pred)-1)\n",
    "    print(\"R2: \", accuracy)\n",
    "    error_percent = mean_absolute_error(np.exp(share_cv_y_test)-1, np.exp(share_cv_y_pred)-1)/np.mean(np.exp(share_cv_y_test)-1)\n",
    "    print(\"Error (\\\\100): \", error_percent)\n",
    "    print(\"Mean: \", np.mean(np.exp(share_cv_y_test)-1))\n",
    "#     plt.scatter(share_cv_y_test, share_cv_y_pred)\n",
    "\n",
    "    print('Clicks!')\n",
    "    accuracy = metrics.r2_score(np.exp(clicks_cv_y_test)-1, np.exp(clicks_cv_y_pred)-1)\n",
    "    print(\"R2: \", accuracy)\n",
    "    error_percent = mean_absolute_error(np.exp(clicks_cv_y_test)-1, np.exp(clicks_cv_y_pred)-1)/np.mean(np.exp(clicks_cv_y_test)-1)\n",
    "    print(\"Error (\\\\100): \", error_percent)\n",
    "    print(\"Mean: \", np.mean(np.exp(clicks_cv_y_test)-1))\n",
    "#     plt.scatter(clicks_cv_y_test, clicks_cv_y_pred)"
   ]
  },
  {
   "cell_type": "code",
   "execution_count": 33,
   "metadata": {
    "collapsed": false
   },
   "outputs": [
    {
     "name": "stdout",
     "output_type": "stream",
     "text": [
      "R2:  0.744407421459\n",
      "Error (\\100):  0.184608169602\n",
      "Mean:  3.41856212424\n",
      "Shares!\n",
      "R2:  0.842963930461\n",
      "Error (\\100):  0.0681147030698\n",
      "Mean:  7.82726669264\n",
      "Clicks!\n"
     ]
    },
    {
     "data": {
      "text/plain": [
       "<matplotlib.collections.PathCollection at 0x11d2f7080>"
      ]
     },
     "execution_count": 33,
     "metadata": {},
     "output_type": "execute_result"
    },
    {
     "data": {
      "image/png": "[encoded data removed]",
      "text/plain": [
       "<matplotlib.figure.Figure at 0x10d4cc8d0>"
      ]
     },
     "metadata": {},
     "output_type": "display_data"
    }
   ],
   "source": [
    "##share\n",
    "# share_cv_y_test\n",
    "# share_cv_y_pred\n",
    "\n",
    "accuracy = metrics.r2_score(share_cv_y_test, share_cv_y_pred)\n",
    "print(\"R2: \", accuracy)\n",
    "error_percent = mean_absolute_error(share_cv_y_test, share_cv_y_pred)/np.mean(share_cv_y_test)\n",
    "print(\"Error (\\\\100): \", error_percent)\n",
    "print(\"Mean: \", np.mean(share_cv_y_test))\n",
    "########\n",
    "# accuracy = metrics.r2_score(np.exp(share_cv_y_test)-1, np.exp(share_cv_y_pred)-1)\n",
    "# print(\"R2: \", accuracy)\n",
    "# error_percent = mean_absolute_error(np.exp(share_cv_y_test)-1, np.exp(share_cv_y_pred)-1)/np.mean(np.exp(share_cv_y_test)-1)\n",
    "# print(\"Error (\\\\100): \", error_percent)\n",
    "# print(\"Mean: \", np.mean(np.exp(share_cv_y_test)-1))\n",
    "print('Shares!')\n",
    "plt.scatter(share_cv_y_test, share_cv_y_pred)\n",
    "\n",
    "accuracy = metrics.r2_score(clicks_cv_y_test, clicks_cv_y_pred)\n",
    "print(\"R2: \", accuracy)\n",
    "error_percent = mean_absolute_error(clicks_cv_y_test, clicks_cv_y_pred)/np.mean(clicks_cv_y_test)\n",
    "print(\"Error (\\\\100): \", error_percent)\n",
    "print(\"Mean: \", np.mean(clicks_cv_y_test))\n",
    "########\n",
    "# accuracy = metrics.r2_score(np.exp(share_cv_y_test)-1, np.exp(share_cv_y_pred)-1)\n",
    "# print(\"R2: \", accuracy)\n",
    "# error_percent = mean_absolute_error(np.exp(share_cv_y_test)-1, np.exp(share_cv_y_pred)-1)/np.mean(np.exp(share_cv_y_test)-1)\n",
    "# print(\"Error (\\\\100): \", error_percent)\n",
    "# print(\"Mean: \", np.mean(np.exp(share_cv_y_test)-1))\n",
    "print('Clicks!')\n",
    "plt.scatter(clicks_cv_y_test, clicks_cv_y_pred)"
   ]
  },
  {
   "cell_type": "code",
   "execution_count": 70,
   "metadata": {
    "collapsed": false
   },
   "outputs": [
    {
     "name": "stderr",
     "output_type": "stream",
     "text": [
      "/Users/eshwarchandrasekharan/anaconda3/lib/python3.6/site-packages/statsmodels/nonparametric/kdetools.py:20: VisibleDeprecationWarning: using a non-integer number instead of an integer will result in an error in the future\n",
      "  y = X[:m/2+1] + np.r_[0,X[m/2+1:],0]*1j\n"
     ]
    },
    {
     "data": {
      "text/plain": [
       "<seaborn.axisgrid.JointGrid at 0x11e3e26d8>"
      ]
     },
     "execution_count": 70,
     "metadata": {},
     "output_type": "execute_result"
    },
    {
     "data": {
      "image/png": "[encoded data removed]",
      "text/plain": [
       "<matplotlib.figure.Figure at 0x1151a08d0>"
      ]
     },
     "metadata": {},
     "output_type": "display_data"
    },
    {
     "data": {
      "image/png": "[encoded data removed]",
      "text/plain": [
       "<matplotlib.figure.Figure at 0x11e3e2630>"
      ]
     },
     "metadata": {},
     "output_type": "display_data"
    }
   ],
   "source": [
    "df = pd.DataFrame()\n",
    "df['test'] = share_cv_y_test\n",
    "df['pred'] = share_cv_y_pred\n",
    "\n",
    "if log_scale == 1:\n",
    "    df['test'] = np.exp(df['test'] - 1)\n",
    "    df['pred'] = np.exp(df['pred'] - 1)\n",
    "\n",
    "import seaborn as sns\n",
    "sns.set(color_codes=True)\n",
    "sns.distplot(share_cv_y_test)\n",
    "sns.jointplot(x=\"test\", y=\"pred\", data=df)"
   ]
  },
  {
   "cell_type": "code",
   "execution_count": 71,
   "metadata": {
    "collapsed": false
   },
   "outputs": [
    {
     "name": "stdout",
     "output_type": "stream",
     "text": [
      "R2:  0.779841664485\n",
      "Error (\\100):  0.51200357558\n",
      "Mean:  43.9060398090577\n"
     ]
    }
   ],
   "source": [
    "test = df['test']\n",
    "pred = df['pred']\n",
    "\n",
    "######\n",
    "accuracy = metrics.r2_score(test, pred)\n",
    "print(\"R2: \", accuracy)\n",
    "error_percent = mean_absolute_error(test, pred)/np.mean(test)\n",
    "print(\"Error (\\\\100): \", error_percent)\n",
    "print(\"Mean: \", np.mean(test))\n",
    "np.percentile(df['test'], 10), np.percentile(df['test'], 50), np.percentile(df['test'], 90)\n",
    "\n",
    "percentile_5 = np.percentile(df['test'], 5)\n",
    "percentile_10 = np.percentile(df['test'], 10)\n",
    "percentile_20 = np.percentile(df['test'], 20)\n",
    "percentile_50 = np.percentile(df['test'], 50)\n",
    "percentile_90 = np.percentile(df['test'], 90)\n",
    "percentile_95 = np.percentile(df['test'], 95)\n",
    "percentile_99 = np.percentile(df['test'], 99)"
   ]
  },
  {
   "cell_type": "code",
   "execution_count": 73,
   "metadata": {
    "collapsed": false
   },
   "outputs": [
    {
     "name": "stdout",
     "output_type": "stream",
     "text": [
      "R2:  0.778026935618\n",
      "Error (\\100):  0.507611106572\n",
      "Mean:  47.870136094964295\n"
     ]
    }
   ],
   "source": [
    "test = df[df['test'] > percentile_10]['test']\n",
    "pred = df[df['test'] > percentile_10]['pred']\n",
    "\n",
    "######\n",
    "accuracy = metrics.r2_score(test, pred)\n",
    "print(\"R2: \", accuracy)\n",
    "error_percent = mean_absolute_error(test, pred)/np.mean(test)\n",
    "print(\"Error (\\\\100): \", error_percent)\n",
    "print(\"Mean: \", np.mean(test))"
   ]
  },
  {
   "cell_type": "code",
   "execution_count": 57,
   "metadata": {
    "collapsed": false
   },
   "outputs": [
    {
     "name": "stdout",
     "output_type": "stream",
     "text": [
      "R2:  0.501340554176\n",
      "Error (\\100):  0.52106291654\n",
      "Mean:  23.77279542472543\n"
     ]
    }
   ],
   "source": [
    "test = df[df['test'] < percentile_95]['test']\n",
    "pred = df[df['test'] < percentile_95]['pred']\n",
    "\n",
    "######\n",
    "accuracy = metrics.r2_score(test, pred)\n",
    "print(\"R2: \", accuracy)\n",
    "error_percent = mean_absolute_error(test, pred)/np.mean(test)\n",
    "print(\"Error (\\\\100): \", error_percent)\n",
    "print(\"Mean: \", np.mean(test))"
   ]
  },
  {
   "cell_type": "code",
   "execution_count": 78,
   "metadata": {
    "collapsed": false
   },
   "outputs": [
    {
     "name": "stdout",
     "output_type": "stream",
     "text": [
      "R2:  0.779841664485\n",
      "Error (\\100):  0.51200357558\n",
      "Mean:  43.9060398090577\n"
     ]
    },
    {
     "data": {
      "text/plain": [
       "11255.167864316754"
      ]
     },
     "execution_count": 78,
     "metadata": {},
     "output_type": "execute_result"
    }
   ],
   "source": [
    "low = -1\n",
    "# low = percentile_5\n",
    "# high = percentile_95\n",
    "high = df['test'].max() + 1\n",
    "\n",
    "# test = df['test']\n",
    "# pred = df['pred']\n",
    "test = df[(df['test'] > low) & (df['test'] < high)]['test']\n",
    "pred = df[(df['test'] > low) & (df['test'] < high)]['pred']\n",
    "\n",
    "######\n",
    "accuracy = metrics.r2_score(test, pred)\n",
    "print(\"R2: \", accuracy)\n",
    "error_percent = mean_absolute_error(test, pred)/np.mean(test)\n",
    "print(\"Error (\\\\100): \", error_percent)\n",
    "print(\"Mean: \", np.mean(test))\n",
    "high\n",
    "\n",
    "# ## FOR LINEAR REGRESSION: \n",
    "# ##ALL TEST DATA\n",
    "# R2:  0.380172734065\n",
    "# Error (\\100):  0.557827531234\n",
    "# Mean:  43.90603980905763\n",
    "# ##Excluding 99th percentile\n",
    "# R2:  0.564629844199\n",
    "# Error (\\100):  0.5226670034\n",
    "# Mean:  34.945192183572395"
   ]
  },
  {
   "cell_type": "code",
   "execution_count": 29,
   "metadata": {
    "collapsed": false
   },
   "outputs": [
    {
     "name": "stdout",
     "output_type": "stream",
     "text": [
      "R2:  0.779841664155\n",
      "Error (\\100):  0.516329923125\n",
      "Mean:  118.348990173\n",
      "Shares!\n",
      "R2:  0.779658862269\n",
      "Error (\\100):  0.398451498565\n",
      "Mean:  10139.2730016\n",
      "Clicks!\n"
     ]
    },
    {
     "data": {
      "text/plain": [
       "<matplotlib.collections.PathCollection at 0x11456eef0>"
      ]
     },
     "execution_count": 29,
     "metadata": {},
     "output_type": "execute_result"
    },
    {
     "data": {
      "image/png": "[encoded data removed]",
      "text/plain": [
       "<matplotlib.figure.Figure at 0x10ea11fd0>"
      ]
     },
     "metadata": {},
     "output_type": "display_data"
    }
   ],
   "source": [
    "##share\n",
    "# share_cv_y_test\n",
    "# share_cv_y_pred\n",
    "\n",
    "# accuracy = metrics.r2_score(share_cv_y_test, share_cv_y_pred)\n",
    "# print(\"R2: \", accuracy)\n",
    "# error_percent = mean_absolute_error(share_cv_y_test, share_cv_y_pred)/np.mean(share_cv_y_test)\n",
    "# print(\"Error (\\\\100): \", error_percent)\n",
    "# print(\"Mean: \", np.mean(share_cv_y_test))\n",
    "########\n",
    "accuracy = metrics.r2_score(np.exp(share_cv_y_test)-1, np.exp(share_cv_y_pred)-1)\n",
    "print(\"R2: \", accuracy)\n",
    "error_percent = mean_absolute_error(np.exp(share_cv_y_test)-1, np.exp(share_cv_y_pred)-1)/np.mean(np.exp(share_cv_y_test)-1)\n",
    "print(\"Error (\\\\100): \", error_percent)\n",
    "print(\"Mean: \", np.mean(np.exp(share_cv_y_test)-1))\n",
    "print('Shares!')\n",
    "plt.scatter(share_cv_y_test, share_cv_y_pred)\n",
    "\n",
    "# accuracy = metrics.r2_score(clicks_cv_y_test, clicks_cv_y_pred)\n",
    "# print(\"R2: \", accuracy)\n",
    "# error_percent = mean_absolute_error(clicks_cv_y_test, clicks_cv_y_pred)/np.mean(clicks_cv_y_test)\n",
    "# print(\"Error (\\\\100): \", error_percent)\n",
    "# print(\"Mean: \", np.mean(clicks_cv_y_test))\n",
    "########\n",
    "accuracy = metrics.r2_score(np.exp(clicks_cv_y_test)-1, np.exp(clicks_cv_y_pred)-1)\n",
    "print(\"R2: \", accuracy)\n",
    "error_percent = mean_absolute_error(np.exp(clicks_cv_y_test)-1, np.exp(clicks_cv_y_pred)-1)/np.mean(np.exp(clicks_cv_y_test)-1)\n",
    "print(\"Error (\\\\100): \", error_percent)\n",
    "print(\"Mean: \", np.mean(np.exp(clicks_cv_y_test)-1))\n",
    "\n",
    "print('Clicks!')\n",
    "plt.scatter(clicks_cv_y_test, clicks_cv_y_pred)"
   ]
  },
  {
   "cell_type": "code",
   "execution_count": 30,
   "metadata": {
    "collapsed": false
   },
   "outputs": [
    {
     "name": "stdout",
     "output_type": "stream",
     "text": [
      "R2:  0.779841664155\n",
      "Error (\\100):  0.516329923125\n",
      "Mean:  118.348990173\n",
      "Shares!\n",
      "R2:  0.779658862269\n",
      "Error (\\100):  0.398451498565\n",
      "Mean:  10139.2730016\n",
      "Clicks!\n"
     ]
    },
    {
     "data": {
      "text/plain": [
       "<matplotlib.collections.PathCollection at 0x11d12b6a0>"
      ]
     },
     "execution_count": 30,
     "metadata": {},
     "output_type": "execute_result"
    },
    {
     "data": {
      "image/png": "[encoded data removed]",
      "text/plain": [
       "<matplotlib.figure.Figure at 0x11d12b780>"
      ]
     },
     "metadata": {},
     "output_type": "display_data"
    }
   ],
   "source": [
    "##share\n",
    "# share_cv_y_test\n",
    "# share_cv_y_pred\n",
    "\n",
    "# accuracy = metrics.r2_score(share_cv_y_test, share_cv_y_pred)\n",
    "# print(\"R2: \", accuracy)\n",
    "# error_percent = mean_absolute_error(share_cv_y_test, share_cv_y_pred)/np.mean(share_cv_y_test)\n",
    "# print(\"Error (\\\\100): \", error_percent)\n",
    "# print(\"Mean: \", np.mean(share_cv_y_test))\n",
    "########\n",
    "accuracy = metrics.r2_score(np.exp(share_cv_y_test)-1, np.exp(share_cv_y_pred)-1)\n",
    "print(\"R2: \", accuracy)\n",
    "error_percent = mean_absolute_error(np.exp(share_cv_y_test)-1, np.exp(share_cv_y_pred)-1)/np.mean(np.exp(share_cv_y_test)-1)\n",
    "print(\"Error (\\\\100): \", error_percent)\n",
    "print(\"Mean: \", np.mean(np.exp(share_cv_y_test)-1))\n",
    "print('Shares!')\n",
    "plt.scatter(share_cv_y_test, share_cv_y_pred)\n",
    "\n",
    "# accuracy = metrics.r2_score(clicks_cv_y_test, clicks_cv_y_pred)\n",
    "# print(\"R2: \", accuracy)\n",
    "# error_percent = mean_absolute_error(clicks_cv_y_test, clicks_cv_y_pred)/np.mean(clicks_cv_y_test)\n",
    "# print(\"Error (\\\\100): \", error_percent)\n",
    "# print(\"Mean: \", np.mean(clicks_cv_y_test))\n",
    "########\n",
    "accuracy = metrics.r2_score(np.exp(clicks_cv_y_test)-1, np.exp(clicks_cv_y_pred)-1)\n",
    "print(\"R2: \", accuracy)\n",
    "error_percent = mean_absolute_error(np.exp(clicks_cv_y_test)-1, np.exp(clicks_cv_y_pred)-1)/np.mean(np.exp(clicks_cv_y_test)-1)\n",
    "print(\"Error (\\\\100): \", error_percent)\n",
    "print(\"Mean: \", np.mean(np.exp(clicks_cv_y_test)-1))\n",
    "\n",
    "print('Clicks!')\n",
    "plt.scatter(clicks_cv_y_test, clicks_cv_y_pred)"
   ]
  },
  {
   "cell_type": "code",
   "execution_count": null,
   "metadata": {
    "collapsed": true
   },
   "outputs": [],
   "source": [
    "#####prediction tests - task 3"
   ]
  },
  {
   "cell_type": "code",
   "execution_count": 105,
   "metadata": {
    "collapsed": false
   },
   "outputs": [
    {
     "name": "stdout",
     "output_type": "stream",
     "text": [
      "Shares!\n"
     ]
    },
    {
     "name": "stderr",
     "output_type": "stream",
     "text": [
      "/Users/eshwarchandrasekharan/anaconda3/lib/python3.6/site-packages/ipykernel/__main__.py:81: SettingWithCopyWarning: \n",
      "A value is trying to be set on a copy of a slice from a DataFrame.\n",
      "Try using .loc[row_indexer,col_indexer] = value instead\n",
      "\n",
      "See the caveats in the documentation: http://pandas.pydata.org/pandas-docs/stable/indexing.html#indexing-view-versus-copy\n"
     ]
    },
    {
     "name": "stdout",
     "output_type": "stream",
     "text": [
      "Test page: Tasty ; Accuracy:  0.8354835483548355 ; Total:  9999 ; Hits:  8354 ; Miss:  1645\n",
      "Total links:  866 ; Top K:  20 ; Hits:  19 ; hit-rate:  0.95\n",
      "Test page: SOML ; Accuracy:  0.6336633663366337 ; Total:  9999 ; Hits:  6336 ; Miss:  3663\n",
      "Total links:  588 ; Top K:  20 ; Hits:  2 ; hit-rate:  0.1\n",
      "Test page: BuzzFeed News ; Accuracy:  0.699069906990699 ; Total:  9999 ; Hits:  6990 ; Miss:  3009\n",
      "Total links:  2234 ; Top K:  20 ; Hits:  6 ; hit-rate:  0.3\n",
      "Test page: Nifty ; Accuracy:  0.5957595759575958 ; Total:  9999 ; Hits:  5957 ; Miss:  4042\n",
      "Total links:  20 ; Top K:  20 ; Hits:  20 ; hit-rate:  1.0\n",
      "Test page: BuzzFeed Animals ; Accuracy:  0.6422642264226422 ; Total:  9999 ; Hits:  6422 ; Miss:  3577\n",
      "Total links:  929 ; Top K:  20 ; Hits:  2 ; hit-rate:  0.1\n",
      "DONE!\n"
     ]
    }
   ],
   "source": [
    "import pandas as pd\n",
    "from pandas.stats.api import ols\n",
    "from sklearn import datasets, linear_model\n",
    "from sklearn.model_selection import train_test_split\n",
    "from matplotlib import pyplot as plt\n",
    "import math\n",
    "%matplotlib inline\n",
    "import numpy as np\n",
    "import pandas as pd\n",
    "from sklearn.linear_model import LinearRegression\n",
    "from sklearn.svm import SVR\n",
    "from sklearn.cross_validation import train_test_split\n",
    "import math\n",
    "\n",
    "from sklearn.cross_validation import cross_val_score, cross_val_predict\n",
    "from sklearn import metrics\n",
    "\n",
    "filepath = '/Users/eshwarchandrasekharan/Desktop/repo/predict-pop/models-links/'\n",
    "train_df = pd.read_csv(filepath + 'radshift-links-previous-to-next-page-info.csv')\n",
    "\n",
    "one_hour_features = [\n",
    "       'consumptions_by_type__link_clicks',\n",
    "       'consumptions_by_type__other_clicks',\n",
    "       'reactions_like_total',\n",
    "       'stories_by_action_type__comment',\n",
    "       'stories_by_action_type__like',\n",
    "       'stories_by_action_type__share', \n",
    "        'engaged_fan',\n",
    "       'fan_reach', \n",
    "    'impressions',\n",
    "       'impressions_fan',\n",
    "                ]\n",
    "\n",
    "two_day_features = [\n",
    "       'twoday_consumptions_by_type__link_clicks',\n",
    "       'twoday_stories_by_action_type__share',\n",
    "]\n",
    "\n",
    "all_pages = train_df['page'].unique()\n",
    "cross_promotion_features = all_pages\n",
    "\n",
    "page_infos = ['page', 'next_page']\n",
    "\n",
    "# train_features = one_hour_features\n",
    "# train_features = one_hour_features + page_infos + cross_promotion_features\n",
    "test_features = one_hour_features + page_infos\n",
    "# train_features = cross_promotion_features + one_hour_features\n",
    "\n",
    "# cross_promote = 0\n",
    "cross_promote = 1\n",
    "\n",
    "if cross_promote == 1:\n",
    "    for feat in cross_promotion_features:\n",
    "        test_features.append(feat)\n",
    "\n",
    "# log_scale = 1\n",
    "log_scale = 0\n",
    "\n",
    "if log_scale == 1:\n",
    "    for feat in one_hour_features:\n",
    "        test_df[feat] = np.log(test_df[feat] + 1)\n",
    "        \n",
    "#####train on all, test per page! \n",
    "\n",
    "pages = []\n",
    "accuracy = []\n",
    "topK_hit_rate = []\n",
    "num_links = []\n",
    "\n",
    "print(\"Shares!\")\n",
    "# test_page = 'Tasty'\n",
    "\n",
    "# for test_page in train_df['next_page'].unique():\n",
    "for test_page in ['Tasty', 'SOML', 'BuzzFeed News', 'Nifty', 'BuzzFeed Animals']:\n",
    "# for test_page in ['Tasty']:\n",
    "#     print(\"Test page: \", test_page)\n",
    "    X = train_df\n",
    "    # X = train_df[~(train_df.next_page == test_page)]\n",
    "    y_train = X['next_shares']\n",
    "    X = X[test_features]\n",
    "    X['test_split'] = 0\n",
    "\n",
    "    test_df = train_df[train_df.next_page == test_page]\n",
    "    if len(test_df) < 5:\n",
    "        print(\"Skipping... Cos < 5 links on \", test_page)\n",
    "        continue\n",
    "    num_links.append(len(test_df))\n",
    "    y_test = test_df[['next_shares', 'external_id']]\n",
    "    test_df = test_df[test_features]\n",
    "    test_df['test_split'] = 1\n",
    "    \n",
    "    X = pd.concat([X,test_df])\n",
    "\n",
    "    ####convert page_infos into dummies\n",
    "    X = pd.get_dummies(data = X, columns=['page', 'next_page'])\n",
    "\n",
    "    X_train = X[X.test_split == 0]\n",
    "    X_test = X[X.test_split == 1]\n",
    "\n",
    "    from sklearn.tree import DecisionTreeRegressor\n",
    "    clf = DecisionTreeRegressor(max_depth = 10)\n",
    "#     print(\"TREE REGRESSION!\")\n",
    "\n",
    "    clf.fit(X_train, y_train)\n",
    "    y_pred = clf.predict(X_test)\n",
    "\n",
    "#     accuracy = metrics.r2_score(y_test['next_shares'], y_pred)\n",
    "#     print(\"Cross-Predicted Accuracy (R2):\", accuracy)\n",
    "#     from sklearn.metrics import mean_absolute_error\n",
    "#     print(\"Mean Absolute Error: \", mean_absolute_error(y_test['next_shares'], y_pred))\n",
    "#     error_percent = mean_absolute_error(y_test['next_shares'], y_pred)/y_test['next_shares'].mean()\n",
    "#     print(\"Mean values (share): \", y_test['next_shares'].mean(), \" | percent error: \",  error_percent)\n",
    "\n",
    "    ###sort and see how many pair-wise predictions are correct!?\n",
    "    order = pd.DataFrame()\n",
    "    order = y_test\n",
    "    # order['actual_shares'] = y_test\n",
    "    order['pred_shares'] = y_pred\n",
    "\n",
    "    order['actual_rank'] = order['next_shares'].rank(ascending=0)\n",
    "    order['predicted_rank'] = order['pred_shares'].rank(ascending=0)\n",
    "\n",
    "    ###randomly pick 2 external_ids and make predictions on which will do better than the other:\n",
    "    limit = 10000\n",
    "    hits = 0\n",
    "    miss = 0 \n",
    "    total = 0\n",
    "    \n",
    "    for i in range(1,limit):\n",
    "        total += 1\n",
    "        trial = order.sample(n=2)\n",
    "    #     print(trial)\n",
    "        act1 = trial[:1].next_shares.values[0]\n",
    "        act2 = trial[1:2].next_shares.values[0]\n",
    "        pred1 = trial[:1].pred_shares.values[0]\n",
    "        pred2 = trial[1:2].pred_shares.values[0]\n",
    "\n",
    "        if act1 >= act2:\n",
    "            if pred1 >= pred2:\n",
    "                hits += 1\n",
    "            else:\n",
    "                miss += 1\n",
    "        else:\n",
    "            if pred1 < pred2:\n",
    "                hits += 1\n",
    "            else:\n",
    "                miss += 1\n",
    "    # test = test_df.sample(n = 2)\n",
    "    print(\"Test page:\", test_page, \"; Accuracy: \", hits/total, \"; Total: \", total, \"; Hits: \", hits, \"; Miss: \", miss)\n",
    "#     print(\"Test page: \", test_page, \"; Accuracy: \", hits/total)\n",
    "    pages.append(test_page)\n",
    "    accuracy.append(hits/total)\n",
    "    \n",
    "    top_k = 20\n",
    "    temp = order.sort_values('actual_rank', ascending = True)[:top_k]\n",
    "    hits = len(temp[temp['predicted_rank'] <= top_k])\n",
    "    print('Total links: ', len(test_df), '; Top K: ', top_k, '; Hits: ', hits, \"; hit-rate: \", hits/top_k)\n",
    "    topK_hit_rate.append(hits/top_k)\n",
    "\n",
    "simulations = pd.DataFrame()\n",
    "simulations['page'] = pages\n",
    "simulations['accuracy'] = accuracy\n",
    "simulations['topK_hit_rate'] = topK_hit_rate\n",
    "simulations['total_links'] = num_links\n",
    "\n",
    "print(\"DONE!\")"
   ]
  },
  {
   "cell_type": "code",
   "execution_count": 115,
   "metadata": {
    "collapsed": false
   },
   "outputs": [
    {
     "data": {
      "text/html": [
       "<div>\n",
       "<table border=\"1\" class=\"dataframe\">\n",
       "  <thead>\n",
       "    <tr style=\"text-align: right;\">\n",
       "      <th></th>\n",
       "      <th>page</th>\n",
       "      <th>accuracy</th>\n",
       "      <th>topK_hit_rate</th>\n",
       "      <th>total_links</th>\n",
       "    </tr>\n",
       "  </thead>\n",
       "  <tbody>\n",
       "    <tr>\n",
       "      <th>0</th>\n",
       "      <td>Tasty</td>\n",
       "      <td>0.835484</td>\n",
       "      <td>0.95</td>\n",
       "      <td>866</td>\n",
       "    </tr>\n",
       "    <tr>\n",
       "      <th>1</th>\n",
       "      <td>SOML</td>\n",
       "      <td>0.633663</td>\n",
       "      <td>0.10</td>\n",
       "      <td>588</td>\n",
       "    </tr>\n",
       "    <tr>\n",
       "      <th>2</th>\n",
       "      <td>BuzzFeed News</td>\n",
       "      <td>0.699070</td>\n",
       "      <td>0.30</td>\n",
       "      <td>2234</td>\n",
       "    </tr>\n",
       "    <tr>\n",
       "      <th>3</th>\n",
       "      <td>Nifty</td>\n",
       "      <td>0.595760</td>\n",
       "      <td>1.00</td>\n",
       "      <td>20</td>\n",
       "    </tr>\n",
       "    <tr>\n",
       "      <th>4</th>\n",
       "      <td>BuzzFeed Animals</td>\n",
       "      <td>0.642264</td>\n",
       "      <td>0.10</td>\n",
       "      <td>929</td>\n",
       "    </tr>\n",
       "  </tbody>\n",
       "</table>\n",
       "</div>"
      ],
      "text/plain": [
       "               page  accuracy  topK_hit_rate  total_links\n",
       "0             Tasty  0.835484           0.95          866\n",
       "1              SOML  0.633663           0.10          588\n",
       "2     BuzzFeed News  0.699070           0.30         2234\n",
       "3             Nifty  0.595760           1.00           20\n",
       "4  BuzzFeed Animals  0.642264           0.10          929"
      ]
     },
     "execution_count": 115,
     "metadata": {},
     "output_type": "execute_result"
    }
   ],
   "source": [
    "simulations\n",
    "# top_k = 20\n",
    "# temp = order.sort_values('actual_rank', ascending = True)[:top_k]\n",
    "# hits = len(temp[temp['predicted_rank'] <= top_k])\n",
    "# print('Top K: ', top_k, '; Hits: ', hits, \"; hit-rate: \", hits/top_k)"
   ]
  },
  {
   "cell_type": "code",
   "execution_count": 114,
   "metadata": {
    "collapsed": false
   },
   "outputs": [
    {
     "name": "stdout",
     "output_type": "stream",
     "text": [
      "'BuzzFeed Food',\n",
      "'BuzzFeed',\n",
      "'BuzzFeed Video',\n",
      "'Buy Me That',\n",
      "'BuzzFeed Philippines',\n",
      "'BuzzFeed Parents',\n",
      "'BuzzFeed Australia',\n",
      "'BuzzFeed News',\n",
      "'BuzzFeed Scotland',\n",
      "'BuzzFeed Entertainment',\n",
      "'BuzzFeed UK News',\n",
      "'Quizzes En Español',\n",
      "'BuzzFeed Celeb',\n",
      "'Tasty',\n",
      "'BuzzFeed Geeky',\n",
      "'BuzzFeed Health',\n",
      "'BuzzFeed DIY',\n",
      "'SOML',\n",
      "'BuzzFeed Rewind',\n",
      "'BuzzFeed Books',\n",
      "'BuzzFeed Style',\n",
      "'BuzzFeed UK',\n",
      "'Obsessed by BuzzFeed',\n",
      "'BuzzFeed Animals',\n",
      "'Cocoa Butter',\n",
      "'BuzzFeed Unsolved',\n",
      "'BuzzFeed Science',\n",
      "'Cheeky',\n",
      "'BuzzFeed México',\n",
      "'BuzzFeed Ladylike',\n",
      "'BuzzFeed España',\n",
      "'BuzzFeed Quiz',\n",
      "'BuzzFeed Brasil',\n",
      "'BuzzFeed Español',\n",
      "'BuzzFeed Politics',\n",
      "'BuzzFeed Oz Politics',\n",
      "'BuzzFeed Japan',\n",
      "'Another Round',\n",
      "'Pero Like',\n",
      "'BuzzFeed Community',\n",
      "'BuzzFeed Canada',\n",
      "'BuzzFeed Oz News',\n",
      "'BuzzFeed LGBT',\n",
      "'BuzzFeed Weddings',\n",
      "'BuzzFeed France',\n",
      "'Bien Tasty',\n",
      "'BuzzFeed IRL',\n",
      "'BuzzFeed UK Politics',\n",
      "'Tasty Demais',\n",
      "'Tasty Miam',\n",
      "'Top Knot',\n",
      "'BuzzFeed India',\n",
      "'BuzzFeed Deutschland',\n",
      "'Reasons to Smile',\n",
      "'BuzzFeed World',\n",
      "'BuzzFeed News BR',\n",
      "'LOLA',\n",
      "'BuzzFeed France News',\n",
      "'Proper Tasty',\n",
      "'BuzzFeed San Francisco',\n",
      "'Nifty',\n",
      "'BuzzFeed Japan News',\n",
      "'BuzzFeed Tech',\n",
      "'Buzzed Feed',\n",
      "'BuzzFeed Partner',\n",
      "'Tasty One-Pot',\n",
      "'BuzzFeed Sweaty',\n",
      "'Tasty Junior',\n",
      "'BuzzFeed BFF',\n",
      "'Oh Great, More Politics',\n",
      "'Einfach Tasty',\n",
      "'Ohmygod Yaaa',\n",
      "'BuzzFeed Reader',\n",
      "'Kristin Chirico',\n",
      "'BuzzReads',\n"
     ]
    }
   ],
   "source": [
    "for pg in train_df['next_page'].unique():\n",
    "    print(\"\\'\"+pg+\"\\',\")"
   ]
  },
  {
   "cell_type": "code",
   "execution_count": 116,
   "metadata": {
    "collapsed": false
   },
   "outputs": [
    {
     "data": {
      "text/plain": [
       "39"
      ]
     },
     "execution_count": 116,
     "metadata": {},
     "output_type": "execute_result"
    }
   ],
   "source": [
    "test_pages = [\n",
    "    \n",
    "'BuzzFeed Food',\n",
    "'BuzzFeed',\n",
    "'BuzzFeed Video',\n",
    "'Buy Me That',\n",
    "'BuzzFeed Parents',\n",
    "'BuzzFeed Australia',\n",
    "'BuzzFeed News',\n",
    "'BuzzFeed Entertainment',\n",
    "'BuzzFeed UK News',\n",
    "'BuzzFeed Celeb',\n",
    "'Tasty',\n",
    "'BuzzFeed Geeky',\n",
    "'BuzzFeed Health',\n",
    "'BuzzFeed DIY',\n",
    "'SOML',\n",
    "'BuzzFeed Books',\n",
    "'BuzzFeed Style',\n",
    "'BuzzFeed UK',\n",
    "'Obsessed by BuzzFeed',\n",
    "'BuzzFeed Animals',\n",
    "'Cocoa Butter',\n",
    "'BuzzFeed Unsolved',\n",
    "'BuzzFeed Science',\n",
    "'Cheeky',\n",
    "'BuzzFeed Quiz',\n",
    "'BuzzFeed Politics',\n",
    "'BuzzFeed LGBT',\n",
    "'BuzzFeed Weddings',\n",
    "'Bien Tasty',\n",
    "'Top Knot',\n",
    "'BuzzFeed India',\n",
    "'Reasons to Smile',\n",
    "'BuzzFeed World',\n",
    "'LOLA',\n",
    "'Proper Tasty',\n",
    "'Nifty',\n",
    "'BuzzFeed Tech',\n",
    "'Tasty One-Pot',\n",
    "'BuzzFeed Sweaty',\n",
    "]\n",
    "len(test_pages)"
   ]
  },
  {
   "cell_type": "code",
   "execution_count": null,
   "metadata": {
    "collapsed": true
   },
   "outputs": [],
   "source": []
  }
 ],
 "metadata": {
  "kernelspec": {
   "display_name": "Python 3",
   "language": "python",
   "name": "python3"
  },
  "language_info": {
   "codemirror_mode": {
    "name": "ipython",
    "version": 3
   },
   "file_extension": ".py",
   "mimetype": "text/x-python",
   "name": "python",
   "nbconvert_exporter": "python",
   "pygments_lexer": "ipython3",
   "version": "3.6.0"
  }
 },
 "nbformat": 4,
 "nbformat_minor": 2
}
